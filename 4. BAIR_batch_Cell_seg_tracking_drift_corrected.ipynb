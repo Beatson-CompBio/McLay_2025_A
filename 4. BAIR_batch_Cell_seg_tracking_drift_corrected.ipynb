{
 "cells": [
  {
   "cell_type": "markdown",
   "id": "17d8393e-8ab6-48e3-b47a-ef1d54c2ff11",
   "metadata": {},
   "source": [
    "# Load images and attempt tracking\n",
    "----\n",
    "\n",
    "Author: Ryan Corbyn  \n",
    "Date: 15/11/2023  \n",
    "\n",
    "Here I will load the images from a folder into a numpy array and then display it in Napari to see what I am dealing with. "
   ]
  },
  {
   "cell_type": "markdown",
   "id": "977041be-dc63-4cad-8c23-ce53dd650558",
   "metadata": {},
   "source": [
    "---\n",
    "### Import dependancies"
   ]
  },
  {
   "cell_type": "code",
   "execution_count": null,
   "id": "51fb9cec-3e58-415c-bcc3-9295b2f6e164",
   "metadata": {
    "tags": []
   },
   "outputs": [],
   "source": [
    "import tifffile as tf \n",
    "import napari \n",
    "\n",
    "import numpy as np\n",
    "import pandas as pd\n",
    "import tqdm\n",
    "import tkinter as tk\n",
    "from tkinter import filedialog\n",
    "import btrack\n",
    "\n",
    "\n",
    "from cellpose import core, models, io, metrics\n",
    "# from cellpose.contrib import openvino_utils\n",
    "import os"
   ]
  },
  {
   "cell_type": "markdown",
   "id": "a9c35a42-507e-4291-863c-1b08ed7c35a5",
   "metadata": {},
   "source": [
    "----\n",
    "### Select the image file to analyse. "
   ]
  },
  {
   "cell_type": "code",
   "execution_count": null,
   "id": "a54c753c-4505-42b0-b48a-6a39103f73fb",
   "metadata": {
    "tags": []
   },
   "outputs": [],
   "source": [
    "# Generate a file dialogue box to select folder \n",
    "# containing the images to analyse. \n",
    "root = tk.Tk()\n",
    "root.attributes(\"-topmost\", True)\n",
    "root.withdraw() # Stops a second window opening\n",
    "images_folder = filedialog.askdirectory(title = 'Select image Folder')\n",
    "print(images_folder)\n",
    "\n",
    "# Find the folder name that the script exists in.\n",
    "script_folder = os.getcwd()\n",
    "required_files = script_folder + '/required_files/'"
   ]
  },
  {
   "cell_type": "markdown",
   "id": "360a223f-cbdb-4944-b0a4-152bbd31c4ab",
   "metadata": {},
   "source": [
    "---- \n",
    "### Select the file containing the plate layout"
   ]
  },
  {
   "cell_type": "code",
   "execution_count": null,
   "id": "69efe75e-ca7d-4ad1-9615-9fff4daa3558",
   "metadata": {},
   "outputs": [],
   "source": [
    "# Generate a file dialogue box to select folder \n",
    "# containing the images to analyse. \n",
    "root = tk.Tk()\n",
    "root.attributes(\"-topmost\", True)\n",
    "root.withdraw() # Stops a second window opening\n",
    "plate_layout_loc = filedialog.askopenfilename(title = 'Select the File containing the plate layout')\n",
    "print(plate_layout_loc)"
   ]
  },
  {
   "cell_type": "markdown",
   "id": "7e39acf7-275e-4781-8eef-7431d58a3c0f",
   "metadata": {},
   "source": [
    "---\n",
    "### Select the Cellpose model. "
   ]
  },
  {
   "cell_type": "code",
   "execution_count": null,
   "id": "a51e8e48-0728-4bf5-9845-9b5692ad169e",
   "metadata": {
    "tags": []
   },
   "outputs": [],
   "source": [
    "# Select the cellpose model for segmentation. \n",
    "root = tk.Tk()\n",
    "root.attributes(\"-topmost\", True)\n",
    "root.withdraw() # Stops a second window opening\n",
    "seg_model = filedialog.askopenfilename(title = 'Select Cellpose file', initialdir=required_files)\n",
    "print(seg_model)"
   ]
  },
  {
   "cell_type": "markdown",
   "id": "df6fb359-d8c7-4db6-8403-63de767ec8ce",
   "metadata": {},
   "source": [
    "--- \n",
    "### Input total experiment time in hour. "
   ]
  },
  {
   "cell_type": "code",
   "execution_count": null,
   "id": "3f1f1531-d099-4324-a34e-e464aa2f0a0a",
   "metadata": {
    "tags": []
   },
   "outputs": [],
   "source": [
    "# manually input the experiment time. \n",
    "total_experiment_time = 17 # in hours\n",
    "total_time_in_minute = total_experiment_time * 60"
   ]
  },
  {
   "cell_type": "markdown",
   "id": "1bc70624-3888-49b5-acd8-34ab6ad7b6ea",
   "metadata": {},
   "source": [
    "---- \n",
    "### Get file names"
   ]
  },
  {
   "cell_type": "code",
   "execution_count": null,
   "id": "3ead902c-3938-4507-a9a6-d6e71070caf3",
   "metadata": {
    "tags": []
   },
   "outputs": [],
   "source": [
    "def get_file_names(folder):\n",
    "    '''Get all the file names from the folder.'''\n",
    "    files = os.listdir(folder)\n",
    "    return(files)"
   ]
  },
  {
   "cell_type": "markdown",
   "id": "cdb4085e-75c2-4935-9c6d-a93111dad2ac",
   "metadata": {},
   "source": [
    "----\n",
    "### Perform the BTracks Algorithm "
   ]
  },
  {
   "cell_type": "code",
   "execution_count": null,
   "id": "77680bf1-66ed-4035-8d33-fe36f8cefa2d",
   "metadata": {
    "tags": []
   },
   "outputs": [],
   "source": [
    "def find_Btracks(image_masks, configer_file, loc, save_loc, im_name):\n",
    "    '''A method to find the tracks from the cellpose masks\n",
    "    generated from the image stack. \n",
    "    this method makes use of the trackpy package.'''\n",
    "    \n",
    "    FEATURES = [\n",
    "      \"area\",\n",
    "      \"major_axis_length\",\n",
    "      \"minor_axis_length\",\n",
    "       \"eccentricity\",\n",
    "      \"solidity\",\n",
    "                ]\n",
    "\n",
    "    objects = btrack.utils.segmentation_to_objects(image_masks, properties=tuple(FEATURES))\n",
    "    \n",
    "    with btrack.BayesianTracker() as tracker:\n",
    "        # configure the tracker using a config file\n",
    "        tracker.configure_from_file(loc + configer_file)\n",
    "\n",
    "        tracker.features = FEATURES\n",
    "\n",
    "        # append the objects to be tracked\n",
    "        tracker.append(objects) \n",
    "\n",
    "        # set the volume (Z axis volume is set very large for 2D data)\n",
    "        tracker.volume=((0, 2000), (0, 2000), (-1e5, 1e5))\n",
    "\n",
    "        # track them (in interactive mode)\n",
    "        tracker.track(step_size=100)\n",
    "\n",
    "        # generate hypotheses and run the global optimizer\n",
    "        tracker.optimize()\n",
    "\n",
    "        # store the data in an HDF5 file\n",
    "        tracker.export(save_loc + im_name + '_tracks.h5', obj_type='obj_type_1')\n",
    "        print(loc)\n",
    "\n",
    "        # get the tracks as a python list\n",
    "        tracks = tracker.tracks#(tracking_updates=TRACKING_UPDATES)\n",
    "\n",
    "        # get the data in a format for napari\n",
    "        data, properties, graph = tracker.to_napari(ndim=2)\n",
    "    \n",
    "    return(data, properties, graph)"
   ]
  },
  {
   "cell_type": "markdown",
   "id": "3b3d0c9a-ca1e-4d85-9225-ea4aeb93f3a3",
   "metadata": {},
   "source": [
    "---\n",
    "### Get the image data"
   ]
  },
  {
   "cell_type": "code",
   "execution_count": null,
   "id": "9e7f1ab8-48c2-4ff6-9c3a-a91e8f3785b1",
   "metadata": {
    "tags": []
   },
   "outputs": [],
   "source": [
    "def get_image_data(im_name):\n",
    "    '''Get the image data using tifffile module '''\n",
    "    \n",
    "    image_stack = tf.imread(im_name)\n",
    "    image_stack = np.array(image_stack)\n",
    "    \n",
    "    return(image_stack)"
   ]
  },
  {
   "cell_type": "markdown",
   "id": "84c50aee-e220-41ab-b35c-f49b4e6575a0",
   "metadata": {
    "tags": []
   },
   "source": [
    "----\n",
    "### Cellpose segmentation"
   ]
  },
  {
   "cell_type": "code",
   "execution_count": null,
   "id": "e1414aad-89c9-488d-99ab-e2eabed3d422",
   "metadata": {
    "tags": []
   },
   "outputs": [],
   "source": [
    "def segment_cells(segment_model, im_dat):    \n",
    "    \n",
    "    # DEFINE CELLPOSE MODEL (without size model)\n",
    "    model = models.CellposeModel(gpu=True, model_type=segment_model)\n",
    "    # model = openvino_utils.to_openvino(model)\n",
    "    # initialise variables. \n",
    "    cellpose_masks = []\n",
    "    # Cellpose segmentation of all frames in the analysis. \n",
    "    for i in tqdm.tqdm(range( im_dat.shape[0] )) : \n",
    "        masks, flows, styles = model.eval(im_dat[i, ...], channels=[0, 0], diameter = None)\n",
    "        cellpose_masks.append(masks)\n",
    "    \n",
    "    cellpose_masks = np.array(cellpose_masks)\n",
    "    return(cellpose_masks)"
   ]
  },
  {
   "cell_type": "markdown",
   "id": "1c48f483-8dcb-41e0-9ad3-5286c416ee25",
   "metadata": {},
   "source": [
    "----\n",
    "### Perform tracking usng BTracks."
   ]
  },
  {
   "cell_type": "code",
   "execution_count": null,
   "id": "d4ba0031-68d3-4f30-8c60-5c083e220d8a",
   "metadata": {
    "tags": []
   },
   "outputs": [],
   "source": [
    "def track_cells(cellpose_masks, file):\n",
    "    '''Run the BTrack algorithm.'''\n",
    "    \n",
    "    configer_file = 'cell_config.json'\n",
    "    \n",
    "    save_folder = required_files + '/Tracks/'\n",
    "    if os.path.exists(save_folder) == False: \n",
    "        os.makedirs(save_folder)\n",
    "    \n",
    "    # Find the tracks for the individual cells in the image stack. \n",
    "    cell_tracks, properties, graph = find_Btracks(cellpose_masks, configer_file, required_files, save_folder, file)\n",
    "    # Convert output to a dataframe. \n",
    "    tracks_df = pd.DataFrame(cell_tracks, columns = ['Track ID', 'Frame', 'x position', 'y position'])\n",
    "    \n",
    "    return(tracks_df, cell_tracks)"
   ]
  },
  {
   "cell_type": "markdown",
   "id": "70d022a8-ca1c-43bd-b0c2-21073ca5f3e1",
   "metadata": {},
   "source": [
    "--- \n",
    "### Get the tracking data. "
   ]
  },
  {
   "cell_type": "code",
   "execution_count": null,
   "id": "7a09eb3d-9e7e-4779-b35c-55dbb55b4c21",
   "metadata": {
    "tags": []
   },
   "outputs": [],
   "source": [
    "def filter_track_data(tracks_df):    \n",
    "    '''This method that filters the tracks produced by \n",
    "    the Btrack algorithm to remove those cells that have a \n",
    "    track length lower than the minimum number of tracks, which \n",
    "    in this case is 2. \n",
    "    Properties of the cell tracks are also calculated and saved to a \n",
    "    pandas dataframe. '''\n",
    "    \n",
    "    # Initialise variables. \n",
    "    track = 0 \n",
    "    index = []\n",
    "    \n",
    "    # Find the indicies that correspond to a change in \n",
    "    # Track ID. \n",
    "    for i in range( len(tracks_df) ):\n",
    "        if tracks_df['Track ID'].iloc[i] != track: \n",
    "            index.append(i)\n",
    "            track = tracks_df['Track ID'].iloc[i]\n",
    "    \n",
    "    # Initialise\n",
    "    track_data = pd.DataFrame()\n",
    "\n",
    "    # Extract the x and y positions of the cell. \n",
    "    x_vals = tracks_df['x position']\n",
    "    y_vals = tracks_df['y position']\n",
    "\n",
    "    # Loop around all track IDs.\n",
    "    for i in range( len(index) - 1 ): \n",
    "        # Ignore single frame tracks. \n",
    "        if index[i]+1 < index[i+1]:\n",
    "            # Calculate total track length. \n",
    "            total_track_length = int(tracks_df['Frame'].iloc[index[i+1]-1] - \n",
    "                                  tracks_df['Frame'].iloc[index[i]]) \n",
    "\n",
    "            # Initialise and ensure cleared for each loop. \n",
    "            distace_per_frame = []\n",
    "            speed = []\n",
    "            # If tracks are longer than 1 frame. \n",
    "            if total_track_length > 1: \n",
    "                # Loop around all tracked frames. \n",
    "                for j in range( total_track_length - 1 ):\n",
    "                    # Counter\n",
    "                    ind = j + 1\n",
    "                    # Calculate x and y displacement traveled per frame. \n",
    "                    x_distance_per_frame = np.power(x_vals[index[i]] - x_vals[index[i]+ind], 2)\n",
    "                    y_distance_per_frame = np.power(y_vals[index[i]] - y_vals[index[i]+ind], 2)\n",
    "                    # Cacluate total displacement per frame. \n",
    "                    distace_per_frame.append( np.sqrt(x_distance_per_frame \n",
    "                                                     + y_distance_per_frame) )\n",
    "                    # Calculate the velocity of the cell per frame. \n",
    "                    speed.append( distace_per_frame[j] / frame_time )\n",
    "\n",
    "                # Calculate distance traveled by the cell. \n",
    "                x_displacement = np.power(x_vals[ index[i]] - x_vals[ index[i + 1] -1], 2)\n",
    "                y_displacement = np.power(y_vals[ index[i]] - y_vals[ index[i + 1] -1], 2)\n",
    "                displacement = np.sqrt(x_displacement + y_displacement) \n",
    "                # Calculate the cell speed. \n",
    "                velocity = displacement / total_time_in_minute\n",
    "\n",
    "                # Calcuate the total cell diplacement\n",
    "                distance = np.sum(distace_per_frame)\n",
    "                mean_speed = np.mean(speed) \n",
    "                speed_std = np.std(speed)\n",
    "\n",
    "                # Create a dataframe for the tracked data. \n",
    "                track_dict = {'Track Number': [int(tracks_df['Track ID'].iloc[index[i]])], \n",
    "                             'Total Frames Tracked': [total_track_length], \n",
    "                             'Total Distance cell travels (Pixels)': [displacement], \n",
    "                             'Total Cell Speed (Pixels/Minute)': [mean_speed], \n",
    "                             'Standard Deviation Total Cell Speed (Pixels/Minute)': [speed_std], \n",
    "                             'Total Displacement cell travels (Pixels)': [distance], \n",
    "                             'Mean cell Velocity (Pixels/minute)': [velocity] }\n",
    "\n",
    "                track_data = pd.concat([track_data, pd.DataFrame(track_dict)] )    \n",
    "\n",
    "    return(track_data)"
   ]
  },
  {
   "cell_type": "markdown",
   "id": "51aa62bd-9bea-4ba7-8fa8-3539251ec2e1",
   "metadata": {},
   "source": [
    "---- \n",
    "### Save data"
   ]
  },
  {
   "cell_type": "code",
   "execution_count": null,
   "id": "60229a3d-abcd-4e4c-99bb-d169cc550cff",
   "metadata": {
    "tags": []
   },
   "outputs": [],
   "source": [
    "def save_data(data_folder, file_name, drug, mask, all_tracks, filtered_df, well, tracker ): \n",
    "    '''Save the raw tracks data, \n",
    "    Save the filtered track data. \n",
    "    Save the cellpose masks as a .tif stack file. \n",
    "    '''\n",
    "    \n",
    "    # Create a folder to save the data in. \n",
    "    save_folder = os.path.dirname(data_folder) + '/' + '0.Analysis results/' + well + '/'\n",
    "    \n",
    "    if os.path.exists(save_folder) == False:\n",
    "        os.makedirs(save_folder)\n",
    "        \n",
    "    tf.imwrite(save_folder + '/' + file_name[0:15]+ drug +'_cp_masks.tif', mask)\n",
    "    \n",
    "    all_tracks.to_csv(save_folder + '/' + file_name[0:15]+ drug +'_all_tracks.csv', index = False)\n",
    "  \n",
    "    filtered_df.to_csv(save_folder + '/' + file_name[0:15] + drug +'_filtered_track_analysis.csv', index = False)\n",
    "    "
   ]
  },
  {
   "cell_type": "markdown",
   "id": "bed3c904-f9c4-443f-a539-a7e8d73d7930",
   "metadata": {
    "tags": []
   },
   "source": [
    "---\n",
    "# Run script "
   ]
  },
  {
   "cell_type": "code",
   "execution_count": null,
   "id": "a7f0b6d1-f97d-4f41-871f-82cad424a0c8",
   "metadata": {
    "scrolled": true
   },
   "outputs": [],
   "source": [
    "# Get file names from folder. \n",
    "file_names = get_file_names(images_folder)\n",
    "\n",
    "# Read the Plate layout from the file. \n",
    "plate_layout = pd.read_excel(plate_layout_loc + layout_names[0], header = None)\n",
    "\n",
    "# For each file\n",
    "for i in range( len(file_names) ) : \n",
    "\n",
    "    # Find the well the data comes from. \n",
    "    well = file_names[i][9:11]\n",
    "    \n",
    "    # Load the image data. \n",
    "    image_data = get_image_data(images_folder + '/' + file_names[i])\n",
    "    \n",
    "    # Calculate the time period between image frames. \n",
    "    frame_time = total_time_in_minute / (image_data.shape[0]-1)\n",
    "    \n",
    "    # Use cellpose to generate the cell segmentation masks. \n",
    "    cell_mask = segment_cells(seg_model, image_data)\n",
    "\n",
    "    # Use the BTrack module to find cell tracks. \n",
    "    cell_tracks_df, tracks = track_cells(cell_mask, file_names[i][0:-4])\n",
    "   \n",
    "    # Filter the tracks data. \n",
    "    filtered_data = filter_track_data(cell_tracks_df)\n",
    "    \n",
    "    # Find out what drug was used in an experiment. \n",
    "    ind = np.where(plate_layout[0] == well)[0]\n",
    "    treatment = np.array(plate_layout[1].iloc[ind])[0]\n",
    "    \n",
    "    # Save all the data. \n",
    "    save_data(images_folder, file_names[i], treatment, cell_mask, cell_tracks_df, filtered_data, well, tracks)"
   ]
  },
  {
   "cell_type": "markdown",
   "id": "df4ebffa-3170-4de6-a759-2747ba118916",
   "metadata": {},
   "source": [
    "--- \n",
    "### View data through Napari"
   ]
  },
  {
   "cell_type": "code",
   "execution_count": null,
   "id": "09619358-2d23-45ea-9dcb-c03d304f85b1",
   "metadata": {
    "tags": []
   },
   "outputs": [],
   "source": [
    "viewer = napari.Viewer()\n",
    "viewer.add_image(image_data)\n",
    "viewer.add_labels( np.array(cell_mask) )\n",
    "viewer.add_tracks( np.array(tracks) )"
   ]
  }
 ],
 "metadata": {
  "kernelspec": {
   "display_name": "Python 3 (ipykernel)",
   "language": "python",
   "name": "python3"
  },
  "language_info": {
   "codemirror_mode": {
    "name": "ipython",
    "version": 3
   },
   "file_extension": ".py",
   "mimetype": "text/x-python",
   "name": "python",
   "nbconvert_exporter": "python",
   "pygments_lexer": "ipython3",
   "version": "3.8.0"
  }
 },
 "nbformat": 4,
 "nbformat_minor": 5
}
